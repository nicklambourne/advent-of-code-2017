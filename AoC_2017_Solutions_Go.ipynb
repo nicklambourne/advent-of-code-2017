{
 "cells": [
  {
   "cell_type": "code",
   "execution_count": null,
   "metadata": {
    "collapsed": true
   },
   "outputs": [],
   "source": []
  }
 ],
 "metadata": {
  "kernelspec": {
   "display_name": "Go (gopherlab)",
   "language": "go",
   "name": "gopherlab"
  },
  "language_info": {
   "file_extension": ".go",
   "mimetype": "application/x-golang",
   "name": "go",
   "version": "go1.9.2"
  }
 },
 "nbformat": 4,
 "nbformat_minor": 2
}
