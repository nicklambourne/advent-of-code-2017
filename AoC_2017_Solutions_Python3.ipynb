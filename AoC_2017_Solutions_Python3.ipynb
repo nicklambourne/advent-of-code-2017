{
 "cells": [
  {
   "cell_type": "markdown",
   "metadata": {},
   "source": [
    "# Day 1"
   ]
  },
  {
   "cell_type": "markdown",
   "metadata": {},
   "source": [
    "#### Part 1\n",
    "Find the sum of all digits that match the next digit in the list. The list is circular, so the digit after the last digit is the first digit in the list."
   ]
  },
  {
   "cell_type": "code",
   "execution_count": 6,
   "metadata": {
    "collapsed": false
   },
   "outputs": [],
   "source": [
    "input1 = str(open('input/1/part1').read().strip())"
   ]
  },
  {
   "cell_type": "code",
   "execution_count": 29,
   "metadata": {
    "collapsed": false
   },
   "outputs": [
    {
     "ename": "TypeError",
     "evalue": "object of type '_io.TextIOWrapper' has no len()",
     "output_type": "error",
     "traceback": [
      "\u001b[0;31m---------------------------------------------------------------------------\u001b[0m",
      "\u001b[0;31mTypeError\u001b[0m                                 Traceback (most recent call last)",
      "\u001b[0;32m<ipython-input-29-80c3d1582929>\u001b[0m in \u001b[0;36m<module>\u001b[0;34m()\u001b[0m\n\u001b[1;32m      1\u001b[0m \u001b[0msum\u001b[0m \u001b[0;34m=\u001b[0m \u001b[0;36m0\u001b[0m\u001b[0;34m\u001b[0m\u001b[0m\n\u001b[0;32m----> 2\u001b[0;31m \u001b[0;32mfor\u001b[0m \u001b[0mi\u001b[0m \u001b[0;32min\u001b[0m \u001b[0mrange\u001b[0m\u001b[0;34m(\u001b[0m\u001b[0mlen\u001b[0m\u001b[0;34m(\u001b[0m\u001b[0minput1\u001b[0m\u001b[0;34m)\u001b[0m\u001b[0;34m)\u001b[0m\u001b[0;34m:\u001b[0m\u001b[0;34m\u001b[0m\u001b[0m\n\u001b[0m\u001b[1;32m      3\u001b[0m     \u001b[0mx\u001b[0m \u001b[0;34m=\u001b[0m \u001b[0mint\u001b[0m\u001b[0;34m(\u001b[0m\u001b[0minput1\u001b[0m\u001b[0;34m[\u001b[0m\u001b[0mi\u001b[0m\u001b[0;34m]\u001b[0m\u001b[0;34m)\u001b[0m\u001b[0;34m\u001b[0m\u001b[0m\n\u001b[1;32m      4\u001b[0m     \u001b[0my\u001b[0m \u001b[0;34m=\u001b[0m \u001b[0mint\u001b[0m\u001b[0;34m(\u001b[0m\u001b[0minput1\u001b[0m\u001b[0;34m[\u001b[0m\u001b[0;34m(\u001b[0m\u001b[0mi\u001b[0m\u001b[0;34m+\u001b[0m\u001b[0;36m1\u001b[0m\u001b[0;34m)\u001b[0m\u001b[0;34m%\u001b[0m\u001b[0;34m(\u001b[0m\u001b[0mlen\u001b[0m\u001b[0;34m(\u001b[0m\u001b[0minput1\u001b[0m\u001b[0;34m)\u001b[0m\u001b[0;34m)\u001b[0m\u001b[0;34m]\u001b[0m\u001b[0;34m)\u001b[0m\u001b[0;34m\u001b[0m\u001b[0m\n\u001b[1;32m      5\u001b[0m     \u001b[0;32mif\u001b[0m \u001b[0mx\u001b[0m \u001b[0;34m==\u001b[0m \u001b[0my\u001b[0m\u001b[0;34m:\u001b[0m\u001b[0;34m\u001b[0m\u001b[0m\n",
      "\u001b[0;31mTypeError\u001b[0m: object of type '_io.TextIOWrapper' has no len()"
     ]
    }
   ],
   "source": [
    "sum = 0\n",
    "for i in range(len(input1)):\n",
    "    x = int(input1[i])\n",
    "    y = int(input1[(i+1)%(len(input1))])\n",
    "    if x == y:\n",
    "        sum += x\n",
    "print(sum)"
   ]
  },
  {
   "cell_type": "markdown",
   "metadata": {
    "collapsed": true
   },
   "source": [
    "#### Part 2\n",
    "Now, instead of considering the next digit, it wants you to consider the digit halfway around the circular list. That is, if your list contains 10 items, only include a digit in your sum if the digit 10/2 = 5 steps forward matches it. Fortunately, your list has an even number of elements."
   ]
  },
  {
   "cell_type": "code",
   "execution_count": 8,
   "metadata": {
    "collapsed": false
   },
   "outputs": [
    {
     "name": "stdout",
     "output_type": "stream",
     "text": [
      "1041\n"
     ]
    }
   ],
   "source": [
    "halflength = int(len(input1)/2)\n",
    "print(halflength)"
   ]
  },
  {
   "cell_type": "code",
   "execution_count": 9,
   "metadata": {
    "collapsed": false
   },
   "outputs": [
    {
     "name": "stdout",
     "output_type": "stream",
     "text": [
      "1244\n"
     ]
    }
   ],
   "source": [
    "sum2 = 0\n",
    "for i in range(len(input1)):\n",
    "    x = int(input1[i])\n",
    "    y = int(input1[(i+halflength)%(len(input1))])\n",
    "    if x == y:\n",
    "        sum2 += x\n",
    "print(sum2)"
   ]
  },
  {
   "cell_type": "markdown",
   "metadata": {
    "collapsed": true
   },
   "source": [
    "# Day 2"
   ]
  },
  {
   "cell_type": "markdown",
   "metadata": {},
   "source": [
    "#### Part 1\n",
    "You need to calculate the spreadsheet's checksum. For each row, determine the difference between the largest value and the smallest value; the checksum is the sum of all of these differences."
   ]
  },
  {
   "cell_type": "code",
   "execution_count": 49,
   "metadata": {
    "collapsed": false
   },
   "outputs": [],
   "source": [
    "values = []\n",
    "\n",
    "with open('input/2/input', 'r') as input2:\n",
    "    for line in input2:\n",
    "        values.append([int(x) for x in line.split()])"
   ]
  },
  {
   "cell_type": "code",
   "execution_count": 51,
   "metadata": {
    "collapsed": false
   },
   "outputs": [
    {
     "name": "stdout",
     "output_type": "stream",
     "text": [
      "45158\n"
     ]
    }
   ],
   "source": [
    "checksum = 0\n",
    "for row in values:\n",
    "    maximum = max(row)\n",
    "    minimum = min(row)\n",
    "    checksum += maximum - minimum\n",
    "print(checksum)"
   ]
  },
  {
   "cell_type": "markdown",
   "metadata": {},
   "source": [
    "#### Part 2\n",
    "The goal is to find the only two numbers in each row where one evenly divides the other - that is, where the result of the division operation is a whole number. They would like you to find those numbers on each line, divide them, and add up each line's result."
   ]
  },
  {
   "cell_type": "code",
   "execution_count": 61,
   "metadata": {
    "collapsed": false
   },
   "outputs": [
    {
     "name": "stdout",
     "output_type": "stream",
     "text": [
      "294\n"
     ]
    }
   ],
   "source": [
    "def recursive_find(row):\n",
    "    x = row[0]\n",
    "    rest = row[1:]\n",
    "    for y in rest:\n",
    "        if (x % y) == 0:\n",
    "            return x/y\n",
    "        if (y % x) == 0:\n",
    "            return y/x\n",
    "    return recursive_find(rest)\n",
    "\n",
    "def sum_rows(values):\n",
    "    total = 0\n",
    "    for row in values:\n",
    "        total += recursive_find(row)\n",
    "    return int(total)\n",
    "        \n",
    "print(sum_rows(values))"
   ]
  },
  {
   "cell_type": "markdown",
   "metadata": {
    "collapsed": true
   },
   "source": [
    "# Day 3"
   ]
  },
  {
   "cell_type": "markdown",
   "metadata": {},
   "source": [
    "#### Part 1\n",
    "How many steps are required to carry the data from the square identified in your puzzle input all the way to the access port?"
   ]
  },
  {
   "cell_type": "code",
   "execution_count": 105,
   "metadata": {
    "collapsed": false
   },
   "outputs": [
    {
     "name": "stdout",
     "output_type": "stream",
     "text": [
      "295\n",
      "(0, 1)\n",
      "(295,295) changed to 1 [x = 0, y = 0]\n",
      "current_width extended to 3\n",
      "(295,296) changed to 2 [x = 0, y = 1]\n",
      "changing dir to (-1, 0)\n",
      "(294,296) changed to 3 [x = -1, y = 1]\n",
      "changing dir to (0, -1)\n",
      "(294,295) changed to 4 [x = -1, y = 0]\n",
      "(294,294) changed to 5 [x = -1, y = -1]\n",
      "changing dir to (1, 0)\n",
      "(295,294) changed to 6 [x = 0, y = -1]\n",
      "(296,294) changed to 7 [x = 1, y = -1]\n",
      "changing dir to (0, 1)\n",
      "(296,295) changed to 8 [x = 1, y = 0]\n",
      "(296,296) changed to 9 [x = 1, y = 1]\n",
      "current_width extended to 5\n",
      "(296,297) changed to 10 [x = 1, y = 2]\n",
      "changing dir to (-1, 0)\n",
      "(295,297) changed to 11 [x = 0, y = 2]\n",
      "(294,297) changed to 12 [x = -1, y = 2]\n",
      "(293,297) changed to 13 [x = -2, y = 2]\n",
      "changing dir to (0, -1)\n",
      "(293,296) changed to 14 [x = -2, y = 1]\n",
      "(293,295) changed to 15 [x = -2, y = 0]\n",
      "(293,294) changed to 16 [x = -2, y = -1]\n",
      "(293,293) changed to 17 [x = -2, y = -2]\n",
      "changing dir to (1, 0)\n",
      "(294,293) changed to 18 [x = -1, y = -2]\n",
      "(295,293) changed to 19 [x = 0, y = -2]\n",
      "(296,293) changed to 20 [x = 1, y = -2]\n",
      "(297,293) changed to 21 [x = 2, y = -2]\n",
      "changing dir to (0, 1)\n",
      "(297,294) changed to 22 [x = 2, y = -1]\n",
      "(297,295) changed to 23 [x = 2, y = 0]\n",
      "(297,296) changed to 24 [x = 2, y = 1]\n",
      "(297,297) changed to 25 [x = 2, y = 2]\n",
      "current_width extended to 7\n",
      "(297,298) changed to 26 [x = 2, y = 3]\n",
      "changing dir to (-1, 0)\n",
      "(296,298) changed to 27 [x = 1, y = 3]\n",
      "(295,298) changed to 28 [x = 0, y = 3]\n",
      "(294,298) changed to 29 [x = -1, y = 3]\n",
      "(0,120) changed to 347981 [x = -295, y = -175]\n",
      "(0,119) changed to 347982 [x = -295, y = -176]\n",
      "(0,118) changed to 347983 [x = -295, y = -177]\n",
      "(0,117) changed to 347984 [x = -295, y = -178]\n",
      "(0,116) changed to 347985 [x = -295, y = -179]\n",
      "(0,115) changed to 347986 [x = -295, y = -180]\n",
      "(0,114) changed to 347987 [x = -295, y = -181]\n",
      "(0,113) changed to 347988 [x = -295, y = -182]\n",
      "(0,112) changed to 347989 [x = -295, y = -183]\n",
      "(0,111) changed to 347990 [x = -295, y = -184]\n",
      "(0,110) changed to 347991 [x = -295, y = -185]\n",
      "-295\n",
      "-186\n",
      "Answer:480\n",
      "[[      0.       0.       0. ...,  347513.  347512.  347511.]\n",
      " [      0.  345745.  345744. ...,  345158.  345157.  347510.]\n",
      " [      0.  345746.  343397. ...,  342811.  345156.  347509.]\n",
      " ..., \n",
      " [      0.  346332.  343983. ...,  344569.  344570.  346923.]\n",
      " [      0.  346333.  346334. ...,  346920.  346921.  346922.]\n",
      " [      0.       0.       0. ...,       0.       0.       0.]]\n"
     ]
    }
   ],
   "source": [
    "import numpy as np\n",
    "import math\n",
    "\n",
    "input3a = 347991\n",
    "\n",
    "square_size = math.ceil(math.sqrt(input3a))\n",
    "\n",
    "if square_size % 2 == 0:\n",
    "    square_size += 1\n",
    "\n",
    "arr = np.zeros((square_size, square_size))    \n",
    "\n",
    "print(square_size//2)\n",
    "\n",
    "movements = [(0, 1), (-1, 0), (0, -1), (1, 0)]\n",
    "\n",
    "current_movement = 0\n",
    "index = 0\n",
    "x = 0\n",
    "y = 0\n",
    "current_width = 1\n",
    "half_width = 1\n",
    "\n",
    "print(movements[current_movement])\n",
    "\n",
    "while index != input3a:\n",
    "    # Increment it\n",
    "    index += 1\n",
    "    # Place it\n",
    "    arr[(square_size//2)+x][(square_size)//2+y] = index\n",
    "    if index < 30 or index > 347980:\n",
    "        print(\"({},{}) changed to {} [x = {}, y = {}]\".format((square_size//2)+x, (square_size//2)+y, index, x, y))\n",
    "    # Move to next spot\n",
    "    # Is next spot okay? If not, change direction\n",
    "    if current_width != 1:\n",
    "        half_width = (current_width - 1) / 2\n",
    "    if (abs(x+movements[current_movement][0]) > half_width or abs(y+movements[current_movement][1]) > half_width) and index != current_width**2:\n",
    "        current_movement = (current_movement + 1) % 4\n",
    "        if index < 30 or index > 347980:\n",
    "            print(\"changing dir to ({}, {})\".format(movements[current_movement][0], movements[current_movement][1]))\n",
    "    # Set x and y to next spot\n",
    "    x += movements[current_movement][0]\n",
    "    y += movements[current_movement][1]\n",
    "    # If \n",
    "    if index == current_width**2:\n",
    "        current_width += 2\n",
    "        if index < 30 or index > 347980:\n",
    "            print(\"current_width extended to {}\".format(current_width))\n",
    "print(x)\n",
    "print(y)\n",
    "print(\"Answer:\" + str(abs(x)+abs(y)-1))\n",
    "print(arr)"
   ]
  },
  {
   "cell_type": "markdown",
   "metadata": {
    "collapsed": true
   },
   "source": [
    "# Day 4"
   ]
  },
  {
   "cell_type": "markdown",
   "metadata": {},
   "source": [
    "#### Part 1\n",
    "To ensure security, a valid passphrase must contain no duplicate words.\n",
    "\n",
    "For example:\n",
    "\n",
    "aa bb cc dd ee is valid.\n",
    "aa bb cc dd aa is not valid - the word aa appears more than once.\n",
    "aa bb cc dd aaa is valid - aa and aaa count as different words.\n",
    "\n",
    "The system's full passphrase list is available as your puzzle input. How many passphrases are valid?"
   ]
  },
  {
   "cell_type": "code",
   "execution_count": 25,
   "metadata": {
    "collapsed": false
   },
   "outputs": [
    {
     "name": "stdout",
     "output_type": "stream",
     "text": [
      "386/512\n"
     ]
    }
   ],
   "source": [
    "numlines = 0\n",
    "okay = 0\n",
    "with open('input/4/part1', 'r') as input1:\n",
    "    for line in input1:\n",
    "        numlines += 1\n",
    "        line = [word.strip() for word in line.split(\" \")]\n",
    "        line_set = set(line)\n",
    "        if len(line) == len(line_set):\n",
    "            okay += 1\n",
    "    print(str(okay) + '/' + str(numlines))"
   ]
  },
  {
   "cell_type": "markdown",
   "metadata": {},
   "source": [
    "#### Part 2"
   ]
  },
  {
   "cell_type": "code",
   "execution_count": 1,
   "metadata": {
    "collapsed": false
   },
   "outputs": [
    {
     "ename": "IndentationError",
     "evalue": "expected an indented block (<ipython-input-1-05e214e0f3b1>, line 8)",
     "output_type": "error",
     "traceback": [
      "\u001b[0;36m  File \u001b[0;32m\"<ipython-input-1-05e214e0f3b1>\"\u001b[0;36m, line \u001b[0;32m8\u001b[0m\n\u001b[0;31m    return recursive_find(rest)\u001b[0m\n\u001b[0m    ^\u001b[0m\n\u001b[0;31mIndentationError\u001b[0m\u001b[0;31m:\u001b[0m expected an indented block\n"
     ]
    }
   ],
   "source": [
    "def recursive_check_for_anagrams(line):\n",
    "    x = line[0]\n",
    "    rest = line[1:]\n",
    "    for y in rest:\n",
    "        if x == rest[0]:\n",
    "            return False\n",
    "        else:        \n",
    "    return recursive_find(rest)\n",
    "\n",
    "def check_for_anagrams(line):\n",
    "    words = [sorted(list(word)) for word in [word.strip() for word in line.split(' ')]]\n",
    "    for word in words:\n",
    "        rest = words[1:]\n",
    "        for rword in rest:\n",
    "            if word == rword:\n",
    "                return False\n",
    "    return True\n",
    "    \n",
    "okay2 = 0\n",
    "with open('input/4/part1', 'r') as input2:\n",
    "    for line in input2:\n",
    "        if check_for_anagrams(line):\n",
    "            okay2 += 1\n",
    "\n",
    "print(okay2)"
   ]
  },
  {
   "cell_type": "code",
   "execution_count": null,
   "metadata": {
    "collapsed": true
   },
   "outputs": [],
   "source": []
  }
 ],
 "metadata": {
  "kernelspec": {
   "display_name": "Python 3",
   "language": "python",
   "name": "python3"
  },
  "language_info": {
   "codemirror_mode": {
    "name": "ipython",
    "version": 3
   },
   "file_extension": ".py",
   "mimetype": "text/x-python",
   "name": "python",
   "nbconvert_exporter": "python",
   "pygments_lexer": "ipython3",
   "version": "3.6.0"
  }
 },
 "nbformat": 4,
 "nbformat_minor": 2
}
